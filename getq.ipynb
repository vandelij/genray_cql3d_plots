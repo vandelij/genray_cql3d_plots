{
 "cells": [
  {
   "cell_type": "code",
   "execution_count": 1,
   "metadata": {},
   "outputs": [],
   "source": [
    "import getGfileDict\n",
    "import numpy as np\n",
    "import matplotlib.pyplot as plt"
   ]
  },
  {
   "cell_type": "code",
   "execution_count": 6,
   "metadata": {},
   "outputs": [
    {
     "name": "stdout",
     "output_type": "stream",
     "text": [
      "I was called\n",
      "shotNum: 147634\n",
      "dict_keys(['header', 'idum', 'mw', 'mh', 'xdim', 'zdim', 'rzero', 'rgrid1', 'zmid', 'rmaxis', 'zmaxis', 'ssimag', 'ssibdry', 'bcentr', 'cpasma', 'ssibry', 'rgrid', 'zgrid', 'psirz', 'psirzraw', 'fpol', 'pres', 'ffprim', 'pprime', 'qpsi', 'nbbbs', 'rbbbs', 'zbbbs', 'nlim', 'xlim', 'ylim', 'isPlasma', 'pressrz', 'qrz', 'btrz', 'brrz', 'bzrz', 'jtrz', 'npsimid', 'gammamid', 'bzmid', 'btmid', 'jtmid', 'pressmid', 'qmid'])\n",
      "[1.49597214 1.55496594 1.60968668 1.66275378 1.71202425 1.75630751\n",
      " 1.79685732 1.82930863 1.85666458 1.87619752 1.89195805 1.90128177\n",
      " 1.90540827 1.90658618 1.90371986 1.89772066 1.89032039 1.88151859\n",
      " 1.87215918 1.86329831 1.85577764 1.85039493 1.84691476 1.8461762\n",
      " 1.84810296 1.85305911 1.86094992 1.87117423 1.88429689 1.90016159\n",
      " 1.91891304 1.94045379 1.96478512 1.99199556 2.02215366 2.05548761\n",
      " 2.09200393 2.13202707 2.17576689 2.22308597 2.27450241 2.33028433\n",
      " 2.39105713 2.45722239 2.52879032 2.60601178 2.69057111 2.78259737\n",
      " 2.88259838 2.99125414 3.10987614 3.24116098 3.38409886 3.54203002\n",
      " 3.71561892 3.90816388 4.11785123 4.34856965 4.60075785 4.87387371\n",
      " 5.16775728 5.47962099 5.83586588 6.24486827 7.86912526]\n"
     ]
    }
   ],
   "source": [
    "parentdir = '/home/vandelij/Desktop/HFS_HHFW_antenna/GENRAY_CQL_Scripts'\n",
    "gfileDict = getGfileDict.getGfileDict(pathprefix=f'{parentdir}')\n",
    "print(gfileDict.keys())\n"
   ]
  },
  {
   "cell_type": "code",
   "execution_count": 11,
   "metadata": {},
   "outputs": [
    {
     "name": "stdout",
     "output_type": "stream",
     "text": [
      "[1.49597214 1.55496594 1.60968668 1.66275378 1.71202425 1.75630751\n",
      " 1.79685732 1.82930863 1.85666458 1.87619752 1.89195805 1.90128177\n",
      " 1.90540827 1.90658618 1.90371986 1.89772066 1.89032039 1.88151859\n",
      " 1.87215918 1.86329831 1.85577764 1.85039493 1.84691476 1.8461762\n",
      " 1.84810296 1.85305911 1.86094992 1.87117423 1.88429689 1.90016159\n",
      " 1.91891304 1.94045379 1.96478512 1.99199556 2.02215366 2.05548761\n",
      " 2.09200393 2.13202707 2.17576689 2.22308597 2.27450241 2.33028433\n",
      " 2.39105713 2.45722239 2.52879032 2.60601178 2.69057111 2.78259737\n",
      " 2.88259838 2.99125414 3.10987614 3.24116098 3.38409886 3.54203002\n",
      " 3.71561892 3.90816388 4.11785123 4.34856965 4.60075785 4.87387371\n",
      " 5.16775728 5.47962099 5.83586588 6.24486827 7.86912526]\n"
     ]
    },
    {
     "data": {
      "image/png": "[encoded data removed]",
      "text/plain": [
       "<Figure size 432x288 with 1 Axes>"
      ]
     },
     "metadata": {
      "needs_background": "light"
     },
     "output_type": "display_data"
    }
   ],
   "source": [
    "print(gfileDict['qpsi'])\n",
    "plt.plot(gfileDict['rgrid'], gfileDict['qpsi'])\n",
    "np.savetxt('q147634.txt', gfileDict['qpsi'])"
   ]
  }
 ],
 "metadata": {
  "kernelspec": {
   "display_name": "base",
   "language": "python",
   "name": "python3"
  },
  "language_info": {
   "codemirror_mode": {
    "name": "ipython",
    "version": 3
   },
   "file_extension": ".py",
   "mimetype": "text/x-python",
   "name": "python",
   "nbconvert_exporter": "python",
   "pygments_lexer": "ipython3",
   "version": "3.8.8"
  }
 },
 "nbformat": 4,
 "nbformat_minor": 2
}
