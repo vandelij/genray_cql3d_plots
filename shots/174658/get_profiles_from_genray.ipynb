{
 "cells": [
  {
   "cell_type": "code",
   "execution_count": 1,
   "metadata": {},
   "outputs": [],
   "source": [
    "import numpy as np\n",
    "import matplotlib.pyplot as plt\n",
    "import re\n",
    "from scipy import interpolate"
   ]
  },
  {
   "cell_type": "code",
   "execution_count": 2,
   "metadata": {},
   "outputs": [],
   "source": [
    "def createInputFileDictionary(path):\n",
    "    inputFile = open(path,'r')\n",
    "    \n",
    "    inputFileDict = {}\n",
    "    \n",
    "    inputLines = inputFile.readlines()\n",
    "    \n",
    "    variableValue = ''\n",
    "    variableName = ''\n",
    "\n",
    "    sectionName = ''\n",
    "\n",
    "    for i in range(len(inputLines)):\n",
    "        line = inputLines[i].strip()\n",
    "        if len(line) == 0:\n",
    "            continue\n",
    "        if line[0] == '!' or line[1] == '!':\n",
    "            continue\n",
    "        if line[0] == '&':# and line[1:]!='end':\n",
    "            #if this is not the first section, add the last variable to the dictionary before moving onto this new section\n",
    "            if sectionName != '':\n",
    "                addVariable(inputFileDict, sectionName, variableName, variableValue)\n",
    "                variableValue = ''\n",
    "                variableName = ''\n",
    "\n",
    "            sectionName = line[1:]\n",
    "            inputFileDict[sectionName] = {}\n",
    "            continue \n",
    "\n",
    "\n",
    "        #\"\"\"       \n",
    "        splitLine = line.split('=')\n",
    "        \n",
    "        #if this line is a continuation of a previous variable\n",
    "        if len(splitLine) == 1:\n",
    "            splitLine = re.sub(\"\\s+\", \",\", splitLine[0].strip()).replace(' ',',')\n",
    "            variableValue = variableValue + splitLine + ','\n",
    "            if i == len(inputLines) - 1:\n",
    "                addVariable(inputFileDict, sectionName, variableName, variableValue)\n",
    "        #if this is a new variable\n",
    "        else:\n",
    "            if variableName != '':\n",
    "                addVariable(inputFileDict, sectionName, variableName, variableValue)\n",
    "                variableValue = ''\n",
    "                variableName = ''\n",
    "            \n",
    "            variableName = splitLine[0].strip(); variableValue = re.sub(\"\\s+\", \",\", splitLine[1].strip()).replace(' ',',') + ','\n",
    "        #\"\"\"\n",
    "            \n",
    "    return inputFileDict\n",
    "    \n",
    "def addVariable(dictionary, sectionName, variableName, variableValue):\n",
    "    #get rid of extra comma at the end\n",
    "    #print(f\"{sectionName, variableName, variableValue}\")\n",
    "    variableValue = variableValue.replace(',,',',')\n",
    "    variableValue = variableValue[:-1]\n",
    "    splitVariable = np.array(variableValue.split(','))\n",
    "        \n",
    "    try:  \n",
    "        if len(splitVariable) > 1:\n",
    "            dictionary[sectionName][variableName]=np.array([float(var) for var in splitVariable])\n",
    "\n",
    "        else:\n",
    "            try: \n",
    "                dictionary[sectionName][variableName]=float(variableValue)\n",
    "            except:\n",
    "                dictionary[sectionName][variableName]=variableValue\n",
    "    except Exception as e:\n",
    "        pass"
   ]
  },
  {
   "cell_type": "code",
   "execution_count": 5,
   "metadata": {},
   "outputs": [
    {
     "name": "stdout",
     "output_type": "stream",
     "text": [
      "[4.48613453e+19 4.48613453e+19 4.48613453e+19 4.46052391e+19\n",
      " 4.46052391e+19 4.46052391e+19 4.39110362e+19 4.39110362e+19\n",
      " 4.39110362e+19 4.27147693e+19 4.27147693e+19 4.27147693e+19\n",
      " 4.10693018e+19 4.10693018e+19 4.10693018e+19 3.95449586e+19\n",
      " 3.95449586e+19 3.95449586e+19 3.81727751e+19 3.81727751e+19\n",
      " 3.81727751e+19 3.69408239e+19 3.69408239e+19 3.69408239e+19\n",
      " 3.58330029e+19 3.58330029e+19 3.58330029e+19 3.48182826e+19\n",
      " 3.48182826e+19 3.48182826e+19 3.38667281e+19 3.38667281e+19\n",
      " 3.38667281e+19 3.29523368e+19 3.29523368e+19 3.29523368e+19\n",
      " 3.20500938e+19 3.20500938e+19 3.20500938e+19 3.11325085e+19\n",
      " 3.11325085e+19 3.11325085e+19 3.01717716e+19 3.01717716e+19\n",
      " 3.01717716e+19 2.91387608e+19 2.91387608e+19 2.91387608e+19\n",
      " 2.80132527e+19 2.80132527e+19 2.80132527e+19 2.67948547e+19\n",
      " 2.67948547e+19 2.67948547e+19 2.55071281e+19 2.55071281e+19\n",
      " 2.55071281e+19 2.41933062e+19 2.41933062e+19 2.41933062e+19\n",
      " 2.29080997e+19 2.29080997e+19 2.29080997e+19 2.16654601e+19\n",
      " 2.16654601e+19 2.16654601e+19 2.03960024e+19 2.03960024e+19\n",
      " 2.03960024e+19 1.89023392e+19 1.89023392e+19 1.89023392e+19\n",
      " 1.63783758e+19 1.63783758e+19 1.63783758e+19 4.87435790e+18\n",
      " 4.87435790e+18 4.87435790e+18]\n"
     ]
    }
   ],
   "source": [
    "shot = '174658'\n",
    "genray_in_path = f'genray.in'\n",
    "genray_in_dict = createInputFileDictionary(genray_in_path)\n",
    "density_profile = genray_in_dict['dentab']['prof']\n",
    "temp_profile = genray_in_dict['temtab']['prof']\n",
    "\n",
    "print(density_profile)"
   ]
  },
  {
   "cell_type": "code",
   "execution_count": 15,
   "metadata": {},
   "outputs": [
    {
     "name": "stdout",
     "output_type": "stream",
     "text": [
      "[4.48613453e+19 4.46052391e+19 4.39110362e+19 4.27147693e+19\n",
      " 4.10693018e+19 3.95449586e+19 3.81727751e+19 3.69408239e+19\n",
      " 3.58330029e+19 3.48182826e+19 3.38667281e+19 3.29523368e+19\n",
      " 3.20500938e+19 3.11325085e+19 3.01717716e+19 2.91387608e+19\n",
      " 2.80132527e+19 2.67948547e+19 2.55071281e+19 2.41933062e+19\n",
      " 2.29080997e+19 2.16654601e+19 2.03960024e+19 1.89023392e+19\n",
      " 1.63783758e+19 4.87435790e+18]\n",
      "Saving to file....\n",
      "26\n",
      "0.1\n"
     ]
    }
   ],
   "source": [
    "num_species = 3\n",
    "\n",
    "species_dens_holder = np.zeros((3, int(len(density_profile)/3)))\n",
    "species_temp_holder = np.zeros((3, int(len(temp_profile)/3)))\n",
    "\n",
    "i = 0\n",
    "j = 0\n",
    "while i < int(len(density_profile)/3):\n",
    "    for k in range(num_species):\n",
    "        species_dens_holder[k, i] = density_profile[j]\n",
    "        species_temp_holder[k, i] = temp_profile[j]\n",
    "        j = j + 1\n",
    "    i = i + 1\n",
    "    \n",
    "\n",
    "\n",
    "print(species_dens_holder[0, :])\n",
    "\n",
    "print('Saving to file....')\n",
    "np.save('../../../PetraM/genray_density', species_dens_holder[0,:])\n",
    "np.savetxt('../../../PetraM/genray_density.txt', species_dens_holder[0,:])\n",
    "# print(species_temp_holder[1, :])\n",
    "# print(species_temp_holder[2, :])\n",
    "\n",
    "with open(f'genray.in') as file:\n",
    "    lines = file.readlines()\n",
    "\n",
    "first_den_scale = True\n",
    "first_tem_scale = True\n",
    "for line in lines:\n",
    "    if 'ndens' in line:\n",
    "        ndens = int(line.split('=')[1].split('!')[0].strip())\n",
    "        print(ndens)\n",
    "    if 'den_scale(3)' in line and first_den_scale == True:\n",
    "        den_scale_3 = float(line.split('=')[1].split('!')[0].strip())\n",
    "        first_den_scale = False\n",
    "    if 'temp_scale(3)' in line and first_tem_scale == True:\n",
    "         tem_scale_3 = float(line.split('=')[1].split('!')[0].strip())\n",
    "         first_tem_scale = False       \n",
    "\n",
    "genray_rho = np.linspace(0, 1, ndens)\n",
    "#print(genray_rho)\n",
    "print(den_scale_3)"
   ]
  },
  {
   "cell_type": "code",
   "execution_count": 14,
   "metadata": {},
   "outputs": [
    {
     "data": {
      "text/plain": [
       "array([4.48613453e+19, 4.46052391e+19, 4.39110362e+19, 4.27147693e+19,\n",
       "       4.10693018e+19, 3.95449586e+19, 3.81727751e+19, 3.69408239e+19,\n",
       "       3.58330029e+19, 3.48182826e+19, 3.38667281e+19, 3.29523368e+19,\n",
       "       3.20500938e+19, 3.11325085e+19, 3.01717716e+19, 2.91387608e+19,\n",
       "       2.80132527e+19, 2.67948547e+19, 2.55071281e+19, 2.41933062e+19,\n",
       "       2.29080997e+19, 2.16654601e+19, 2.03960024e+19, 1.89023392e+19,\n",
       "       1.63783758e+19, 4.87435790e+18])"
      ]
     },
     "execution_count": 14,
     "metadata": {},
     "output_type": "execute_result"
    }
   ],
   "source": [
    "rr = np.load('/home/vandelij/Desktop/HFS_HHFW_antenna/PetraM/genray_density.npy')\n",
    "\n",
    "rr"
   ]
  }
 ],
 "metadata": {
  "kernelspec": {
   "display_name": "base",
   "language": "python",
   "name": "python3"
  },
  "language_info": {
   "codemirror_mode": {
    "name": "ipython",
    "version": 3
   },
   "file_extension": ".py",
   "mimetype": "text/x-python",
   "name": "python",
   "nbconvert_exporter": "python",
   "pygments_lexer": "ipython3",
   "version": "3.8.8"
  },
  "orig_nbformat": 4
 },
 "nbformat": 4,
 "nbformat_minor": 2
}
